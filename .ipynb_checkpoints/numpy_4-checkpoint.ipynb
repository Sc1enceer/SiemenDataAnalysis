{
 "cells": [
  {
   "cell_type": "code",
   "execution_count": 2,
   "metadata": {},
   "outputs": [
    {
     "name": "stdout",
     "output_type": "stream",
     "text": [
      "[0 1 2]\n",
      "[1.         2.71828183 7.3890561 ]\n",
      "[0.         1.         1.41421356]\n"
     ]
    }
   ],
   "source": [
    "import numpy as np\n",
    "B = np.arange(3)\n",
    "print(B)\n",
    "print(np.exp(B))\n",
    "print(np.sqrt(B))"
   ]
  },
  {
   "cell_type": "code",
   "execution_count": 4,
   "metadata": {},
   "outputs": [
    {
     "name": "stdout",
     "output_type": "stream",
     "text": [
      "[[4. 5. 2. 6.]\n",
      " [0. 8. 1. 6.]\n",
      " [8. 0. 2. 0.]]\n",
      "[4. 5. 2. 6. 0. 8. 1. 6. 8. 0. 2. 0.]\n",
      "[[4. 5.]\n",
      " [2. 6.]\n",
      " [0. 8.]\n",
      " [1. 6.]\n",
      " [8. 0.]\n",
      " [2. 0.]]\n",
      "[[4. 0. 8.]\n",
      " [5. 8. 0.]\n",
      " [2. 1. 2.]\n",
      " [6. 6. 0.]]\n"
     ]
    }
   ],
   "source": [
    "a = np.floor(10 * np.random.random((3,4)))\n",
    "print(a)\n",
    "print(a.ravel())\n",
    "print(a.reshape(6,2))\n",
    "# exchange between rows and cols\n",
    "print(a.T)"
   ]
  },
  {
   "cell_type": "code",
   "execution_count": 6,
   "metadata": {},
   "outputs": [
    {
     "name": "stdout",
     "output_type": "stream",
     "text": [
      "[[2. 8.]\n",
      " [2. 9.]]\n",
      "-----\n",
      "[[2. 1.]\n",
      " [0. 1.]]\n",
      "-----\n",
      "[[2. 8. 2. 1.]\n",
      " [2. 9. 0. 1.]]\n",
      "-----\n",
      "[[2. 8.]\n",
      " [2. 9.]\n",
      " [2. 1.]\n",
      " [0. 1.]]\n"
     ]
    }
   ],
   "source": [
    "a = np.floor(10 * np.random.random((2,2)))\n",
    "b = np.floor(10 * np.random.random((2,2)))\n",
    "print(a)\n",
    "print(\"-----\")\n",
    "print(b)\n",
    "print(\"-----\")\n",
    "print(np.hstack((a,b)))\n",
    "print(\"-----\")\n",
    "print(np.vstack((a,b)))"
   ]
  },
  {
   "cell_type": "code",
   "execution_count": 14,
   "metadata": {},
   "outputs": [
    {
     "name": "stdout",
     "output_type": "stream",
     "text": [
      "[[1. 2. 2. 9. 4. 6. 0. 6. 6. 4. 1. 8.]\n",
      " [4. 3. 0. 8. 8. 3. 1. 2. 1. 0. 4. 9.]]\n",
      "-----\n",
      "split into multiple array size of 3\n",
      "[array([[1., 2., 2., 9.],\n",
      "       [4., 3., 0., 8.]]), array([[4., 6., 0., 6.],\n",
      "       [8., 3., 1., 2.]]), array([[6., 4., 1., 8.],\n",
      "       [1., 0., 4., 9.]])]\n",
      "-----\n",
      "切两刀， 3的位置然后4的位置\n",
      "[array([[1., 2., 2.],\n",
      "       [4., 3., 0.]]), array([[9.],\n",
      "       [8.]]), array([[4., 6., 0., 6., 6., 4., 1., 8.],\n",
      "       [8., 3., 1., 2., 1., 0., 4., 9.]])]\n",
      "纵轴切割\n"
     ]
    }
   ],
   "source": [
    "a = np.floor(10 * np.random.random((2,12)))\n",
    "print(a)\n",
    "print(\"-----\")\n",
    "print(\"split into multiple array size of 3\")\n",
    "print(np.hsplit(a,3))\n",
    "print(\"-----\")\n",
    "print(\"切两刀， 3的位置然后4的位置\")\n",
    "print(np.hsplit(a,(3,4)))\n",
    "print(\"纵轴切割\")"
   ]
  },
  {
   "cell_type": "code",
   "execution_count": 24,
   "metadata": {},
   "outputs": [
    {
     "name": "stdout",
     "output_type": "stream",
     "text": [
      "复制\n",
      "True\n",
      "(3, 4)\n",
      "4456577264\n",
      "4456577264\n",
      "他们都指向同一个数据， 并不是备份，b 只是一个指针\n",
      "False\n",
      "(3, 4)\n",
      "[[ 0  1  2  3]\n",
      " [ 4  5  6  7]\n",
      " [ 8  9 10 11]]\n",
      "4456577264\n",
      "4456578384\n",
      "以上成功复制， 但是有一个问题，当你更改c 的值时，a的某指定位置也会发生改变\n",
      "[[   0    1    2    3]\n",
      " [1234    5    6    7]\n",
      " [   8    9   10   11]]\n",
      "说明一个问题，虽然他们指向不同东西， 但是仍然指向同一个值\n",
      "用复制方法可以成功避免以上问题\n",
      "[[ 999    1    2    3]\n",
      " [1234    5    6    7]\n",
      " [   8    9   10   11]]\n",
      "[[   0    1    2    3]\n",
      " [1234    5    6    7]\n",
      " [   8    9   10   11]]\n"
     ]
    }
   ],
   "source": [
    "print(\"复制\")\n",
    "a = np.arange(12)\n",
    "b = a\n",
    "print(b is a)\n",
    "b.shape = 3,4\n",
    "print(a.shape)\n",
    "print(id(a))\n",
    "print(id(b))\n",
    "print(\"他们都指向同一个数据， 并不是备份，b 只是一个指针\")\n",
    "c = a.view()\n",
    "print(c is a)\n",
    "c.shape = 2,6\n",
    "print(a.shape)\n",
    "print(a)\n",
    "print(id(a))\n",
    "print(id(c))\n",
    "print(\"以上成功复制， 但是有一个问题，当你更改c 的值时，a的某指定位置也会发生改变\")\n",
    "c[0,4] = 1234\n",
    "print(a)\n",
    "print(\"说明一个问题，虽然他们指向不同东西， 但是仍然指向同一个值\")\n",
    "print(\"用复制方法可以成功避免以上问题\")\n",
    "d = a.copy()\n",
    "d is a\n",
    "d[0,0] = 999\n",
    "print(d)\n",
    "print(a)"
   ]
  },
  {
   "cell_type": "code",
   "execution_count": 27,
   "metadata": {},
   "outputs": [
    {
     "name": "stdout",
     "output_type": "stream",
     "text": [
      "[[ 0.          0.84147098  0.90929743  0.14112001]\n",
      " [-0.7568025  -0.95892427 -0.2794155   0.6569866 ]\n",
      " [ 0.98935825  0.41211849 -0.54402111 -0.99999021]\n",
      " [-0.53657292  0.42016704  0.99060736  0.65028784]\n",
      " [-0.28790332 -0.96139749 -0.75098725  0.14987721]]\n",
      "每一列的最大值\n",
      "[2 0 3 1]\n",
      "[array([2, 0, 3, 1]), range(0, 4)]\n"
     ]
    }
   ],
   "source": [
    "data = np.sin(np.arange(20)).reshape(5,4)\n",
    "print(data)\n",
    "print(\"每一列的最大值\")\n",
    "ind = data.argmax(axis=0)\n",
    "print(ind)\n",
    "data_max = [ind, range(data.shape[1])]\n",
    "print(data_max)"
   ]
  },
  {
   "cell_type": "code",
   "execution_count": null,
   "metadata": {},
   "outputs": [],
   "source": []
  }
 ],
 "metadata": {
  "kernelspec": {
   "display_name": "Python 3",
   "language": "python",
   "name": "python3"
  },
  "language_info": {
   "codemirror_mode": {
    "name": "ipython",
    "version": 3
   },
   "file_extension": ".py",
   "mimetype": "text/x-python",
   "name": "python",
   "nbconvert_exporter": "python",
   "pygments_lexer": "ipython3",
   "version": "3.6.5"
  }
 },
 "nbformat": 4,
 "nbformat_minor": 2
}
