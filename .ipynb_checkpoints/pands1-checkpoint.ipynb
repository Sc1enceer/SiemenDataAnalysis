{
 "cells": [
  {
   "cell_type": "code",
   "execution_count": 4,
   "metadata": {},
   "outputs": [
    {
     "name": "stdout",
     "output_type": "stream",
     "text": [
      "数据处理\n",
      "<class 'pandas.core.frame.DataFrame'>\n",
      "Date/Time     object\n",
      "Lat          float64\n",
      "Lon          float64\n",
      "Base          object\n",
      "dtype: object\n"
     ]
    }
   ],
   "source": [
    "print(\"数据处理\")\n",
    "import pandas \n",
    "infos = pandas.read_csv(\"uber-raw-data-apr14.csv\")\n",
    "print(type(infos))\n",
    "print(infos.dtypes)"
   ]
  },
  {
   "cell_type": "code",
   "execution_count": 6,
   "metadata": {},
   "outputs": [
    {
     "name": "stdout",
     "output_type": "stream",
     "text": [
      "Index(['Date/Time', 'Lat', 'Lon', 'Base'], dtype='object')\n"
     ]
    }
   ],
   "source": [
    "infos.head()\n",
    "infos.tail()\n",
    "print(infos.columns)"
   ]
  },
  {
   "cell_type": "code",
   "execution_count": 8,
   "metadata": {},
   "outputs": [
    {
     "data": {
      "text/plain": [
       "(564516, 4)"
      ]
     },
     "execution_count": 8,
     "metadata": {},
     "output_type": "execute_result"
    }
   ],
   "source": [
    "infos.shape"
   ]
  },
  {
   "cell_type": "code",
   "execution_count": 15,
   "metadata": {},
   "outputs": [
    {
     "name": "stdout",
     "output_type": "stream",
     "text": [
      "          Date/Time      Lat      Lon    Base\n",
      "0  4/1/2014 0:11:00  40.7690 -73.9549  B02512\n",
      "5  4/1/2014 0:33:00  40.7383 -74.0403  B02512\n",
      "8  4/1/2014 0:55:00  40.7524 -73.9960  B02512\n"
     ]
    }
   ],
   "source": [
    "print(infos.loc[[0, 5, 8]])"
   ]
  },
  {
   "cell_type": "code",
   "execution_count": 18,
   "metadata": {},
   "outputs": [
    {
     "name": "stdout",
     "output_type": "stream",
     "text": [
      "列\n",
      "            Lat      Lon\n",
      "0       40.7690 -73.9549\n",
      "1       40.7267 -74.0345\n",
      "2       40.7316 -73.9873\n",
      "3       40.7588 -73.9776\n",
      "4       40.7594 -73.9722\n",
      "5       40.7383 -74.0403\n",
      "6       40.7223 -73.9887\n",
      "7       40.7620 -73.9790\n",
      "8       40.7524 -73.9960\n",
      "9       40.7575 -73.9846\n",
      "10      40.7256 -73.9869\n",
      "11      40.7591 -73.9684\n",
      "12      40.7271 -73.9803\n",
      "13      40.6463 -73.7896\n",
      "14      40.7564 -73.9167\n",
      "15      40.7666 -73.9531\n",
      "16      40.7580 -73.9761\n",
      "17      40.7238 -73.9821\n",
      "18      40.7531 -74.0039\n",
      "19      40.7389 -74.0393\n",
      "20      40.7619 -73.9715\n",
      "21      40.7530 -74.0042\n",
      "22      40.6561 -73.9531\n",
      "23      40.7250 -73.9844\n",
      "24      40.6950 -74.1783\n",
      "25      40.9859 -74.1578\n",
      "26      40.6879 -74.1814\n",
      "27      40.6878 -74.1816\n",
      "28      40.7234 -73.9974\n",
      "29      40.7336 -73.9900\n",
      "...         ...      ...\n",
      "564486  40.7342 -74.0101\n",
      "564487  40.7412 -73.9792\n",
      "564488  40.7633 -73.9867\n",
      "564489  40.7549 -73.9845\n",
      "564490  40.7210 -73.9850\n",
      "564491  40.7025 -74.0127\n",
      "564492  40.7568 -73.9848\n",
      "564493  40.7446 -73.9837\n",
      "564494  40.7013 -73.9367\n",
      "564495  40.7213 -73.9948\n",
      "564496  40.7587 -73.9723\n",
      "564497  40.7325 -73.9969\n",
      "564498  40.8152 -73.9433\n",
      "564499  40.7643 -73.9868\n",
      "564500  40.7650 -73.9773\n",
      "564501  40.7436 -73.9848\n",
      "564502  40.7313 -73.9940\n",
      "564503  40.8007 -73.9565\n",
      "564504  40.7603 -73.9870\n",
      "564505  40.7419 -73.9866\n",
      "564506  40.7316 -73.9891\n",
      "564507  40.7267 -73.9937\n",
      "564508  40.7788 -73.9600\n",
      "564509  40.7420 -74.0037\n",
      "564510  40.7514 -74.0066\n",
      "564511  40.7640 -73.9744\n",
      "564512  40.7629 -73.9672\n",
      "564513  40.7443 -73.9889\n",
      "564514  40.6756 -73.9405\n",
      "564515  40.6880 -73.9608\n",
      "\n",
      "[564516 rows x 2 columns]\n"
     ]
    }
   ],
   "source": [
    "print(\"列\")\n",
    "lat_col = infos[\"Lat\"]\n",
    "lat_lon_col = infos[[\"Lat\", \"Lon\"]]\n",
    "print(lat_lon_col)"
   ]
  },
  {
   "cell_type": "code",
   "execution_count": 20,
   "metadata": {},
   "outputs": [
    {
     "name": "stdout",
     "output_type": "stream",
     "text": [
      "['Date/Time', 'Lat', 'Lon', 'Base']\n",
      "       Lat\n",
      "0  40.7690\n",
      "1  40.7267\n",
      "2  40.7316\n"
     ]
    }
   ],
   "source": [
    "col_names = infos.columns.tolist()\n",
    "print(col_names)\n",
    "lat_cols = []\n",
    "for c in col_names:\n",
    "    if c.endswith(\"Lat\"):\n",
    "        lat_cols.append(c)\n",
    "lat_col = infos[lat_cols]\n",
    "print(lat_col.head(3))"
   ]
  },
  {
   "cell_type": "code",
   "execution_count": 25,
   "metadata": {},
   "outputs": [
    {
     "name": "stdout",
     "output_type": "stream",
     "text": [
      "                 Date/Time      Lat      Lon    Base\n",
      "43493    4/2/2014 21:44:00  40.2259 -74.6235  B02598\n",
      "268282  4/14/2014 18:43:00  40.2168 -74.5670  B02617\n",
      "489976  4/23/2014 16:02:00  40.2026 -74.1224  B02682\n",
      "378022   4/7/2014 10:31:00  40.1918 -74.6036  B02682\n",
      "247368   4/8/2014 14:11:00  40.0729 -74.1638  B02617\n"
     ]
    }
   ],
   "source": [
    "infos.sort_values(\"Lat\", inplace=True, ascending=False)\n",
    "print(infos.tail())"
   ]
  },
  {
   "cell_type": "code",
   "execution_count": 26,
   "metadata": {},
   "outputs": [
    {
     "data": {
      "text/html": [
       "<div>\n",
       "<style scoped>\n",
       "    .dataframe tbody tr th:only-of-type {\n",
       "        vertical-align: middle;\n",
       "    }\n",
       "\n",
       "    .dataframe tbody tr th {\n",
       "        vertical-align: top;\n",
       "    }\n",
       "\n",
       "    .dataframe thead th {\n",
       "        text-align: right;\n",
       "    }\n",
       "</style>\n",
       "<table border=\"1\" class=\"dataframe\">\n",
       "  <thead>\n",
       "    <tr style=\"text-align: right;\">\n",
       "      <th></th>\n",
       "      <th>survived</th>\n",
       "      <th>pclass</th>\n",
       "      <th>name</th>\n",
       "      <th>sex</th>\n",
       "      <th>age</th>\n",
       "      <th>sibsp</th>\n",
       "      <th>parch</th>\n",
       "      <th>ticket</th>\n",
       "      <th>fare</th>\n",
       "      <th>cabin</th>\n",
       "      <th>embarked</th>\n",
       "    </tr>\n",
       "  </thead>\n",
       "  <tbody>\n",
       "    <tr>\n",
       "      <th>0</th>\n",
       "      <td>0</td>\n",
       "      <td>3</td>\n",
       "      <td>Braund, Mr. Owen Harris</td>\n",
       "      <td>male</td>\n",
       "      <td>22.0</td>\n",
       "      <td>1</td>\n",
       "      <td>0</td>\n",
       "      <td>A/5 21171</td>\n",
       "      <td>7.2500</td>\n",
       "      <td>NaN</td>\n",
       "      <td>S</td>\n",
       "    </tr>\n",
       "    <tr>\n",
       "      <th>1</th>\n",
       "      <td>1</td>\n",
       "      <td>1</td>\n",
       "      <td>Cumings, Mrs. John Bradley (Florence Briggs Th...</td>\n",
       "      <td>female</td>\n",
       "      <td>38.0</td>\n",
       "      <td>1</td>\n",
       "      <td>0</td>\n",
       "      <td>PC 17599</td>\n",
       "      <td>71.2833</td>\n",
       "      <td>C85</td>\n",
       "      <td>C</td>\n",
       "    </tr>\n",
       "    <tr>\n",
       "      <th>2</th>\n",
       "      <td>1</td>\n",
       "      <td>3</td>\n",
       "      <td>Heikkinen, Miss. Laina</td>\n",
       "      <td>female</td>\n",
       "      <td>26.0</td>\n",
       "      <td>0</td>\n",
       "      <td>0</td>\n",
       "      <td>STON/O2. 3101282</td>\n",
       "      <td>7.9250</td>\n",
       "      <td>NaN</td>\n",
       "      <td>S</td>\n",
       "    </tr>\n",
       "  </tbody>\n",
       "</table>\n",
       "</div>"
      ],
      "text/plain": [
       "   survived  pclass                                               name  \\\n",
       "0         0       3                            Braund, Mr. Owen Harris   \n",
       "1         1       1  Cumings, Mrs. John Bradley (Florence Briggs Th...   \n",
       "2         1       3                             Heikkinen, Miss. Laina   \n",
       "\n",
       "      sex   age  sibsp  parch            ticket     fare cabin embarked  \n",
       "0    male  22.0      1      0         A/5 21171   7.2500   NaN        S  \n",
       "1  female  38.0      1      0          PC 17599  71.2833   C85        C  \n",
       "2  female  26.0      0      0  STON/O2. 3101282   7.9250   NaN        S  "
      ]
     },
     "execution_count": 26,
     "metadata": {},
     "output_type": "execute_result"
    }
   ],
   "source": [
    "titanic_survival = pandas.read_csv(\"train.csv\")\n",
    "titanic_survival.head(3)"
   ]
  },
  {
   "cell_type": "code",
   "execution_count": 34,
   "metadata": {},
   "outputs": [],
   "source": [
    "import numpy as np\n",
    "age = titanic_survival[\"age\"]\n",
    "#print(age.loc[0:10])\n",
    "age_is_null = pandas.isnull(age)\n",
    "#print(age_is_null)\n",
    "age_null_true = age[age_is_null]\n",
    "age_null_count = len(age_null_true)\n",
    "#print(age_null_count)\n"
   ]
  },
  {
   "cell_type": "code",
   "execution_count": 36,
   "metadata": {},
   "outputs": [
    {
     "name": "stdout",
     "output_type": "stream",
     "text": [
      "nan\n"
     ]
    }
   ],
   "source": [
    "mean_age = sum(titanic_survival[\"age\"])/ len(titanic_survival[\"age\"])\n",
    "print(mean_age)"
   ]
  },
  {
   "cell_type": "code",
   "execution_count": 38,
   "metadata": {},
   "outputs": [
    {
     "name": "stdout",
     "output_type": "stream",
     "text": [
      "29.69911764705882\n"
     ]
    }
   ],
   "source": [
    "good_ages = titanic_survival[\"age\"][age_is_null == False]\n",
    "correct_mean_age = sum(good_ages) / len(good_ages)\n",
    "print(correct_mean_age)"
   ]
  },
  {
   "cell_type": "code",
   "execution_count": 40,
   "metadata": {},
   "outputs": [
    {
     "name": "stdout",
     "output_type": "stream",
     "text": [
      "因为经常有缺失值，所以pandas有现成的函数， 但是并不是非常好的方法\n",
      "29.69911764705882\n"
     ]
    }
   ],
   "source": [
    "easy_mean = titanic_survival[\"age\"].mean()\n",
    "print(\"因为经常有缺失值，所以pandas有现成的函数， 但是并不是非常好的方法\")\n",
    "print(easy_mean)"
   ]
  },
  {
   "cell_type": "code",
   "execution_count": 44,
   "metadata": {},
   "outputs": [
    {
     "name": "stdout",
     "output_type": "stream",
     "text": [
      "{1: 84.15468749999992, 2: 20.66218315217391, 3: 13.675550101832997}\n"
     ]
    }
   ],
   "source": [
    "# mean fare for each class\n",
    "passenger_classes = [1,2,3]\n",
    "fare_by_classes = {}\n",
    "for this_class in passenger_classes:\n",
    "    pclass_rows = titanic_survival[titanic_survival[\"pclass\"] == this_class]\n",
    "    pclass_fares = pclass_rows[\"fare\"]\n",
    "    fare_for_class = pclass_fares.mean()\n",
    "    fare_by_classes[this_class] = fare_for_class\n",
    "print(fare_by_classes)"
   ]
  },
  {
   "cell_type": "code",
   "execution_count": 46,
   "metadata": {},
   "outputs": [
    {
     "name": "stdout",
     "output_type": "stream",
     "text": [
      "        survived\n",
      "pclass          \n",
      "1       0.629630\n",
      "2       0.472826\n",
      "3       0.242363\n",
      "             fare\n",
      "pclass           \n",
      "1       84.154687\n",
      "2       20.662183\n",
      "3       13.675550\n"
     ]
    }
   ],
   "source": [
    "# index tells the method which column to groupby\n",
    "# values is the column that we want to apply the calculation to\n",
    "# aggfunc specified the calculation we want to perform\n",
    "\n",
    "passenger_survial = titanic_survival.pivot_table(index=\"pclass\", values=\"survived\", aggfunc=np.mean)\n",
    "print(passenger_survial)\n",
    "\n",
    "passenger_fare = titanic_survival.pivot_table(index=\"pclass\", values=\"fare\", aggfunc=np.mean)\n",
    "print(passenger_fare)"
   ]
  },
  {
   "cell_type": "code",
   "execution_count": 47,
   "metadata": {},
   "outputs": [
    {
     "name": "stdout",
     "output_type": "stream",
     "text": [
      "如果在以下任何subset中有缺失， 会将整列移除\n"
     ]
    }
   ],
   "source": [
    "drop_na_column = titanic_survival.dropna(axis=1)\n",
    "print(\"如果在以下任何subset中有缺失， 会将整列移除\")\n",
    "new_titanic_survival= titanic_survival.dropna(axis=0, subset=[\"age\", \"sex\"])\n"
   ]
  },
  {
   "cell_type": "code",
   "execution_count": 49,
   "metadata": {},
   "outputs": [
    {
     "name": "stdout",
     "output_type": "stream",
     "text": [
      "28.0\n",
      "1\n"
     ]
    }
   ],
   "source": [
    "row_index83_age = titanic_survival.loc[83, \"age\"]\n",
    "print(row_index83_age)\n",
    "row_index766_pclass = titanic_survival.loc[766, \"pclass\"]\n",
    "print(row_index766_pclass)"
   ]
  },
  {
   "cell_type": "code",
   "execution_count": 54,
   "metadata": {},
   "outputs": [
    {
     "name": "stdout",
     "output_type": "stream",
     "text": [
      "    survived  pclass                                  name   sex   age  sibsp  \\\n",
      "0          1       1  Barkworth, Mr. Algernon Henry Wilson  male  80.0      0   \n",
      "1          0       3                   Svensson, Mr. Johan  male  74.0      0   \n",
      "2          0       1               Artagaveytia, Mr. Ramon  male  71.0      0   \n",
      "3          0       1             Goldschmidt, Mr. George B  male  71.0      0   \n",
      "4          0       3                  Connors, Mr. Patrick  male  70.5      0   \n",
      "5          0       2           Mitchell, Mr. Henry Michael  male  70.0      0   \n",
      "6          0       1          Crosby, Capt. Edward Gifford  male  70.0      1   \n",
      "7          0       2                 Wheadon, Mr. Edward H  male  66.0      0   \n",
      "8          0       1        Ostby, Mr. Engelhart Cornelius  male  65.0      0   \n",
      "9          0       3                      Duane, Mr. Frank  male  65.0      0   \n",
      "10         0       1             Millet, Mr. Francis Davis  male  65.0      0   \n",
      "\n",
      "    parch      ticket     fare cabin embarked  \n",
      "0       0       27042  30.0000   A23        S  \n",
      "1       0      347060   7.7750   NaN        S  \n",
      "2       0    PC 17609  49.5042   NaN        C  \n",
      "3       0    PC 17754  34.6542    A5        C  \n",
      "4       0      370369   7.7500   NaN        Q  \n",
      "5       0  C.A. 24580  10.5000   NaN        S  \n",
      "6       1   WE/P 5735  71.0000   B22        S  \n",
      "7       0  C.A. 24579  10.5000   NaN        S  \n",
      "8       1      113509  61.9792   B30        C  \n",
      "9       0      336439   7.7500   NaN        Q  \n",
      "10      0       13509  26.5500   E38        S  \n"
     ]
    }
   ],
   "source": [
    "new_titanic_survival = titanic_survival.sort_values(\"age\", ascending = False)\n",
    "#print(new_titanic_survival)\n",
    "titanic_reindexed = new_titanic_survival.reset_index(drop=True)\n",
    "print(titanic_reindexed.loc[0:10])"
   ]
  },
  {
   "cell_type": "code",
   "execution_count": 55,
   "metadata": {},
   "outputs": [
    {
     "name": "stdout",
     "output_type": "stream",
     "text": [
      "survived                    0\n",
      "pclass                      2\n",
      "name        Kantor, Mr. Sinai\n",
      "sex                      male\n",
      "age                        34\n",
      "sibsp                       1\n",
      "parch                       0\n",
      "ticket                 244367\n",
      "fare                       26\n",
      "cabin                     NaN\n",
      "embarked                    S\n",
      "dtype: object\n"
     ]
    }
   ],
   "source": [
    "# 自定义函数\n",
    "def hundredth_row(column):\n",
    "    hundredth_item = column.loc[99]\n",
    "    return hundredth_item\n",
    "hundredth_row = titanic_survival.apply(hundredth_row)\n",
    "print(hundredth_row)"
   ]
  },
  {
   "cell_type": "code",
   "execution_count": 56,
   "metadata": {},
   "outputs": [
    {
     "name": "stdout",
     "output_type": "stream",
     "text": [
      "survived      0\n",
      "pclass        0\n",
      "name          0\n",
      "sex           0\n",
      "age         177\n",
      "sibsp         0\n",
      "parch         0\n",
      "ticket        0\n",
      "fare          0\n",
      "cabin       687\n",
      "embarked      2\n",
      "dtype: int64\n"
     ]
    }
   ],
   "source": [
    "def null_count(column):\n",
    "    column_null = pandas.isnull(column)\n",
    "    null = column[column_null]\n",
    "    return len(null)\n",
    "column_null_count = titanic_survival.apply(null_count)\n",
    "print(column_null_count)"
   ]
  },
  {
   "cell_type": "code",
   "execution_count": null,
   "metadata": {},
   "outputs": [],
   "source": [
    " def which_class(row):\n",
    "        pclass = row['pclass']\n",
    "        if pandas.isnull(pclass):\n",
    "            return \"Unkown\"\n",
    "        elif pclass == 1:\n",
    "            return \"First Class\"\n",
    "        elif pclass == 2:\n",
    "            return \"Second Class\"\n",
    "        elif pclass == 2:\n",
    "            return \"Third Class\"\n",
    "\n",
    "classes = titanic_survival.apply(which_class, axis=1)\n",
    "print(classes)"
   ]
  }
 ],
 "metadata": {
  "kernelspec": {
   "display_name": "Python 3",
   "language": "python",
   "name": "python3"
  },
  "language_info": {
   "codemirror_mode": {
    "name": "ipython",
    "version": 3
   },
   "file_extension": ".py",
   "mimetype": "text/x-python",
   "name": "python",
   "nbconvert_exporter": "python",
   "pygments_lexer": "ipython3",
   "version": "3.6.5"
  }
 },
 "nbformat": 4,
 "nbformat_minor": 2
}
